{
  "nbformat": 4,
  "nbformat_minor": 0,
  "metadata": {
    "colab": {
      "name": "ml-vectors-matrices-arrays.ipynb",
      "provenance": [],
      "collapsed_sections": [],
      "authorship_tag": "ABX9TyM8j2A9EaDOUTYlf6SnDOAw",
      "include_colab_link": true
    },
    "kernelspec": {
      "name": "python3",
      "display_name": "Python 3"
    },
    "language_info": {
      "name": "python"
    }
  },
  "cells": [
    {
      "cell_type": "markdown",
      "metadata": {
        "id": "view-in-github",
        "colab_type": "text"
      },
      "source": [
        "<a href=\"https://colab.research.google.com/github/bipinthecoder/machine-learning-basics/blob/main/ml_vectors_matrices_arrays.ipynb\" target=\"_parent\"><img src=\"https://colab.research.google.com/assets/colab-badge.svg\" alt=\"Open In Colab\"/></a>"
      ]
    },
    {
      "cell_type": "markdown",
      "source": [
        "**Why Numpy?** "
      ],
      "metadata": {
        "id": "MjWmFmRTrywE"
      }
    },
    {
      "cell_type": "markdown",
      "source": [
        "- NumPy provides efficient storage(less memory) and better ways of handling data for Mathematical Operations\n",
        "- NumPy is meant for creating homogeneous n-dimensional arrays (n = 1..n). Unlike Python lists, all elements of a NumPy array should be of same type\n",
        "- The dimensions of the array can be changed at runtime as long as the multiplicity factor produces the same number of elements. For example, a 2 * 5 matrix can be converted into 5 * 2 and a 1 * 4 into 2 * 2. This can be done by calling the NumPy .reshape(...) function on the arrays.\n",
        "- As .reshape(x,y) can convert an array into multi dimensional array, similarly, its possible to create a single dimensional array from any any multi dimensional array using the function .ravel()\n",
        "- NumPy n-dimensional arrays makes it extremely easy to perform mathematical operations on it\n"
      ],
      "metadata": {
        "id": "ckv89encsMmB"
      }
    },
    {
      "cell_type": "code",
      "source": [
        "import numpy as np"
      ],
      "metadata": {
        "id": "VrkThpUvXf8m"
      },
      "execution_count": 1,
      "outputs": []
    },
    {
      "cell_type": "markdown",
      "source": [
        "**Creating a Vector**"
      ],
      "metadata": {
        "id": "kR7ekO6i9y8h"
      }
    },
    {
      "cell_type": "code",
      "source": [
        "#Vector as a row\n",
        "vector_row = np.array([1,2,3])\n",
        "\n",
        "#Vector as a column\n",
        "vector_col = np.array([[1],\n",
        "                      [2],\n",
        "                      [3]])"
      ],
      "metadata": {
        "id": "1n35SaDt942q"
      },
      "execution_count": null,
      "outputs": []
    },
    {
      "cell_type": "markdown",
      "source": [
        "**Creating a Matrix**"
      ],
      "metadata": {
        "id": "vC9W5YwcHUcH"
      }
    },
    {
      "cell_type": "code",
      "source": [
        "matrix = np.array([[1,2],\n",
        "                  [3,4],\n",
        "                  [5,6]])\n",
        "np.ndim(matrix)"
      ],
      "metadata": {
        "colab": {
          "base_uri": "https://localhost:8080/"
        },
        "id": "dwEET4JUIfWs",
        "outputId": "d10f681c-947f-4119-e02c-405df1a06122"
      },
      "execution_count": null,
      "outputs": [
        {
          "output_type": "execute_result",
          "data": {
            "text/plain": [
              "2"
            ]
          },
          "metadata": {},
          "execution_count": 13
        }
      ]
    },
    {
      "cell_type": "markdown",
      "source": [
        "Numpy has a matrix data structure which can be accessed using **np.mat**      However, this is rarely used as the de facto standard data structures of Numpy are arrays and most Numpy operations return arrays and not matrix objects."
      ],
      "metadata": {
        "id": "YsxxBmKZb7eS"
      }
    },
    {
      "cell_type": "code",
      "source": [
        "matrix_object = np.mat([[1, 2],\n",
        "                        [1, 2],\n",
        "                        [1, 2]])\n",
        "matrix_object"
      ],
      "metadata": {
        "colab": {
          "base_uri": "https://localhost:8080/"
        },
        "id": "UWWOMC9-cAyw",
        "outputId": "e4dd23b7-b71b-4377-9a96-15c45495813b"
      },
      "execution_count": null,
      "outputs": [
        {
          "output_type": "execute_result",
          "data": {
            "text/plain": [
              "matrix([[1, 2],\n",
              "        [1, 2],\n",
              "        [1, 2]])"
            ]
          },
          "metadata": {},
          "execution_count": 3
        }
      ]
    },
    {
      "cell_type": "markdown",
      "source": [
        "**Creating a Sparse Matrix**"
      ],
      "metadata": {
        "id": "9BTN-4PEdxqw"
      }
    },
    {
      "cell_type": "markdown",
      "source": [
        "A sparse matrix or sparse array is a matrix in which most of the elements are zero. Sparse matirces only store non-zero elements and assume all other values are zero. This helps in significant computational savings.\n",
        "\n",
        "Many dataset in real world has zero as most of the elements. Hence Sparse matrix will be of great use to store data with very few non-zero elements.\n",
        "\n",
        "Matrices where most of the values are non-zero called **dense matrices**.\n",
        "\n",
        "The amount of sparsity of a matrix can be calculated as follows:\n",
        "\n",
        "**sparsity = count zero elements / total elements**\n",
        "Ex: A small 3 x 6 sparse matrix.\n",
        "\n",
        "     1, 0, 0, 1, 0, 0\n",
        "    A = (0, 0, 2, 0, 0, 1)\n",
        "     0, 0, 0, 2, 0, 0\n",
        "\n",
        "The example has 13 zero values of the 18 elements in the matrix, giving this matrix a sparsity score of 0.722 or about 72%\n",
        "  \n"
      ],
      "metadata": {
        "id": "hScf3-mpezxj"
      }
    },
    {
      "cell_type": "markdown",
      "source": [
        "**Working with Sparse Matrix**"
      ],
      "metadata": {
        "id": "Li1mTi7iwSGT"
      }
    },
    {
      "cell_type": "markdown",
      "source": [
        "The zero values can be ignored and only the data or non-zero values in the sparse matrix need to be stored or acted upon.\n",
        "\n",
        "There are multiple data structures that can be used to efficiently construct a sparse matrix; three common examples are listed below.\n",
        "\n",
        "    Dictionary of Keys -> A dictionary is used where a row and column index is mapped to a value.\n",
        "    List of Lists -> Each row of the matrix is stored as a list, with each sublist containing the column index and the value.\n",
        "    Coordinate List -> A list of tuples is stored with each tuple containing the row index, column index, and the value.\n",
        "\n",
        "There are also data structures that are more suitable for performing efficient operations; two commonly used examples are listed below.\n",
        "\n",
        "    Compressed Sparse Row -> The sparse matrix is represented using three one-dimensional arrays\n",
        "    for the non-zero values,\n",
        "    the extents of the rows, and the column indexes.\n",
        "    Compressed Sparse Column -> The same as the Compressed Sparse Row method except the \n",
        "    column indices are compressed \n",
        "    and read first before the row indices.\n",
        "\n",
        "The Compressed Sparse Row, also called **CSR format** or **Yale format**, is often used to represent sparse matrices in machine learning given the efficient access and matrix multiplication that it supports."
      ],
      "metadata": {
        "id": "s7fOCIe9wZjR"
      }
    },
    {
      "cell_type": "markdown",
      "source": [
        "**Sparse Matrix representation in a 2-D Array format.**\n",
        "\n",
        "2D array is used to represent a sparse matrix in which there are three rows named as \n",
        "\n",
        "    Row: Index of row, where non-zero element is located\n",
        "    Column: Index of column, where non-zero element is located\n",
        "    Value: Value of the non zero element located at index – (row,column)"
      ],
      "metadata": {
        "id": "YQuwlKN6BSIZ"
      }
    },
    {
      "cell_type": "code",
      "source": [
        "sparseMatrix = [[0,0,3,0,4],[0,0,5,7,0],[0,0,0,0,0],[0,2,6,0,0]]\n",
        " \n",
        "# initialize size as 0\n",
        "size = 0\n",
        " \n",
        "for i in range(4):\n",
        "    for j in range(5):\n",
        "        if (sparseMatrix[i][j] != 0):\n",
        "            size += 1\n",
        " \n",
        "# number of columns in compactMatrix(size) should\n",
        "# be equal to number of non-zero elements in sparseMatrix\n",
        "rows, cols = (3, size)\n",
        "print(f\"Size is {size}\")\n",
        "compactMatrix = [[0 for i in range(cols)] for j in range(rows)]\n",
        "# print(compactMatrix)\n",
        "\n",
        "k = 0\n",
        "for i in range(4):\n",
        "    for j in range(5):\n",
        "        if (sparseMatrix[i][j] != 0):\n",
        "            print(f\"k is {k} and element is {sparseMatrix[i][j]}\")\n",
        "            compactMatrix[0][k] = i\n",
        "            compactMatrix[1][k] = j\n",
        "            compactMatrix[2][k] = sparseMatrix[i][j]\n",
        "            k += 1\n",
        " \n",
        "for i in compactMatrix:\n",
        "    print(i)"
      ],
      "metadata": {
        "id": "EFbsMz7xBXp5"
      },
      "execution_count": null,
      "outputs": []
    },
    {
      "cell_type": "markdown",
      "source": [
        "Many linear algebra NumPy and SciPy functions that operate on NumPy arrays can transparently operate on SciPy sparse arrays. Further, machine learning libraries that use NumPy data structures can also operate transparently on SciPy sparse arrays, such as scikit-learn for general machine learning and Keras for deep learning.\n",
        "\n",
        "A dense matrix stored in a NumPy array can be converted into a sparse matrix using the CSR representation by calling the csr_matrix() function."
      ],
      "metadata": {
        "id": "jXkDnmRFE4PB"
      }
    },
    {
      "cell_type": "code",
      "source": [
        "#Importing sparse from scipy\n",
        "\n",
        "# SciPy is a free and open-source Python library used for scientific computing and technical computing.\n",
        "# SciPy contains modules for optimization, linear algebra, integration, interpolation, special functions,\n",
        "# FFT, signal and image processing, ODE solvers and other tasks common in science and engineering.\n",
        "\n",
        "from scipy import sparse\n",
        "\n",
        "matrix = np.array(([0, 0],\n",
        "                  [0, 1],\n",
        "                  [3, 0]))\n",
        "\n",
        "\n",
        "#compressed sparse row (CSR) matrix\n",
        "\n",
        "matrix_sparse = sparse.csr_matrix(matrix)\n",
        "print(matrix_sparse)\n"
      ],
      "metadata": {
        "colab": {
          "base_uri": "https://localhost:8080/"
        },
        "id": "H4Avu_r9eSo3",
        "outputId": "3a7bc6e2-7024-4874-d6b8-0e6e8cd2f958"
      },
      "execution_count": null,
      "outputs": [
        {
          "output_type": "stream",
          "name": "stdout",
          "text": [
            "  (1, 1)\t1\n",
            "  (2, 0)\t3\n"
          ]
        }
      ]
    },
    {
      "cell_type": "markdown",
      "source": [
        "A sparse matrix can be converted to dense matrix by using todense() method"
      ],
      "metadata": {
        "id": "bVZylcjqYfal"
      }
    },
    {
      "cell_type": "code",
      "source": [
        "dense = matrix_sparse.todense()\n",
        "print(dense)"
      ],
      "metadata": {
        "colab": {
          "base_uri": "https://localhost:8080/"
        },
        "id": "laBfBVtCYNFz",
        "outputId": "24d1ec80-4cdc-4b5c-956e-a23bcdb71493"
      },
      "execution_count": null,
      "outputs": [
        {
          "output_type": "stream",
          "name": "stdout",
          "text": [
            "[[0 0]\n",
            " [0 1]\n",
            " [3 0]]\n"
          ]
        }
      ]
    },
    {
      "cell_type": "markdown",
      "source": [
        "**Selecting Elements**"
      ],
      "metadata": {
        "id": "HGYULh9WCqoH"
      }
    },
    {
      "cell_type": "code",
      "source": [
        "vector = np.array([1, 2, 3, 4, 5])\n",
        "\n",
        "matrix = np.array([[1, 2, 3],\n",
        "                   [4, 5, 6],\n",
        "                   [7, 8, 9]])"
      ],
      "metadata": {
        "id": "5WxLheyhCwFC"
      },
      "execution_count": 2,
      "outputs": []
    },
    {
      "cell_type": "markdown",
      "source": [
        "Select all elements in vector"
      ],
      "metadata": {
        "id": "qbOK4RvDDHbC"
      }
    },
    {
      "cell_type": "code",
      "source": [
        "vector[:]"
      ],
      "metadata": {
        "colab": {
          "base_uri": "https://localhost:8080/"
        },
        "id": "ojBrC-syDK1A",
        "outputId": "5bdf068a-e259-4895-a3b4-2a6db83e8cdc"
      },
      "execution_count": 3,
      "outputs": [
        {
          "output_type": "execute_result",
          "data": {
            "text/plain": [
              "array([1, 2, 3, 4, 5])"
            ]
          },
          "metadata": {},
          "execution_count": 3
        }
      ]
    }
  ]
}