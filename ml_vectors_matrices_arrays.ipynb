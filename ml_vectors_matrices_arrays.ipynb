{
  "nbformat": 4,
  "nbformat_minor": 0,
  "metadata": {
    "colab": {
      "name": "ml-vectors-matrices-arrays.ipynb",
      "provenance": [],
      "collapsed_sections": [],
      "authorship_tag": "ABX9TyNW6jjZgRq6hxxkI98N7cZi",
      "include_colab_link": true
    },
    "kernelspec": {
      "name": "python3",
      "display_name": "Python 3"
    },
    "language_info": {
      "name": "python"
    }
  },
  "cells": [
    {
      "cell_type": "markdown",
      "metadata": {
        "id": "view-in-github",
        "colab_type": "text"
      },
      "source": [
        "<a href=\"https://colab.research.google.com/github/bipinthecoder/machine-learning-basics/blob/main/ml_vectors_matrices_arrays.ipynb\" target=\"_parent\"><img src=\"https://colab.research.google.com/assets/colab-badge.svg\" alt=\"Open In Colab\"/></a>"
      ]
    },
    {
      "cell_type": "markdown",
      "source": [
        "**Why Numpy?** "
      ],
      "metadata": {
        "id": "MjWmFmRTrywE"
      }
    },
    {
      "cell_type": "markdown",
      "source": [
        "- NumPy provides efficient storage(less memory) and better ways of handling data for Mathematical Operations\n",
        "- NumPy is meant for creating homogeneous n-dimensional arrays (n = 1..n). Unlike Python lists, all elements of a NumPy array should be of same type\n",
        "- The dimensions of the array can be changed at runtime as long as the multiplicity factor produces the same number of elements. For example, a 2 * 5 matrix can be converted into 5 * 2 and a 1 * 4 into 2 * 2. This can be done by calling the NumPy .reshape(...) function on the arrays.\n",
        "- As .reshape(x,y) can convert an array into multi dimensional array, similarly, its possible to create a single dimensional array from any any multi dimensional array using the function .ravel()\n",
        "- NumPy n-dimensional arrays makes it extremely easy to perform mathematical operations on it\n"
      ],
      "metadata": {
        "id": "ckv89encsMmB"
      }
    },
    {
      "cell_type": "code",
      "source": [
        "import numpy as np"
      ],
      "metadata": {
        "id": "VrkThpUvXf8m"
      },
      "execution_count": 1,
      "outputs": []
    },
    {
      "cell_type": "markdown",
      "source": [
        "**Creating a Vector**"
      ],
      "metadata": {
        "id": "kR7ekO6i9y8h"
      }
    },
    {
      "cell_type": "code",
      "source": [
        "#Vector as a row\n",
        "vector_row = np.array([1,2,3])\n",
        "\n",
        "#Vector as a column\n",
        "vector_col = np.array([[1],\n",
        "                      [2],\n",
        "                      [3]])"
      ],
      "metadata": {
        "id": "1n35SaDt942q"
      },
      "execution_count": null,
      "outputs": []
    },
    {
      "cell_type": "markdown",
      "source": [
        "**Creating a Matrix**"
      ],
      "metadata": {
        "id": "vC9W5YwcHUcH"
      }
    },
    {
      "cell_type": "code",
      "source": [
        "matrix = np.array([[1,2],\n",
        "                  [3,4],\n",
        "                  [5,6]])\n",
        "np.ndim(matrix)"
      ],
      "metadata": {
        "colab": {
          "base_uri": "https://localhost:8080/"
        },
        "id": "dwEET4JUIfWs",
        "outputId": "d10f681c-947f-4119-e02c-405df1a06122"
      },
      "execution_count": null,
      "outputs": [
        {
          "output_type": "execute_result",
          "data": {
            "text/plain": [
              "2"
            ]
          },
          "metadata": {},
          "execution_count": 13
        }
      ]
    },
    {
      "cell_type": "markdown",
      "source": [
        "Numpy has a matrix data structure which can be accessed using **np.mat**      However, this is rarely used as the de facto standard data structures of Numpy are arrays and most Numpy operations return arrays and not matrix objects."
      ],
      "metadata": {
        "id": "YsxxBmKZb7eS"
      }
    },
    {
      "cell_type": "code",
      "source": [
        "matrix_object = np.mat([[1, 2],\n",
        "                        [1, 2],\n",
        "                        [1, 2]])\n",
        "matrix_object"
      ],
      "metadata": {
        "colab": {
          "base_uri": "https://localhost:8080/"
        },
        "id": "UWWOMC9-cAyw",
        "outputId": "e4dd23b7-b71b-4377-9a96-15c45495813b"
      },
      "execution_count": null,
      "outputs": [
        {
          "output_type": "execute_result",
          "data": {
            "text/plain": [
              "matrix([[1, 2],\n",
              "        [1, 2],\n",
              "        [1, 2]])"
            ]
          },
          "metadata": {},
          "execution_count": 3
        }
      ]
    },
    {
      "cell_type": "markdown",
      "source": [
        "**Creating a Sparse Matrix**"
      ],
      "metadata": {
        "id": "9BTN-4PEdxqw"
      }
    },
    {
      "cell_type": "markdown",
      "source": [
        "A sparse matrix or sparse array is a matrix in which most of the elements are zero. Sparse matirces only store non-zero elements and assume all other values are zero. This helps in significant computational savings.\n",
        "\n",
        "Many dataset in real world has zero as most of the elements. Hence Sparse matrix will be of great use to store data with very few non-zero elements.\n",
        "\n",
        "Matrices where most of the values are non-zero called **dense matrices**.\n",
        "\n",
        "The amount of sparsity of a matrix can be calculated as follows:\n",
        "\n",
        "**sparsity = count zero elements / total elements**\n",
        "Ex: A small 3 x 6 sparse matrix.\n",
        "\n",
        "     1, 0, 0, 1, 0, 0\n",
        "    A = (0, 0, 2, 0, 0, 1)\n",
        "     0, 0, 0, 2, 0, 0\n",
        "\n",
        "The example has 13 zero values of the 18 elements in the matrix, giving this matrix a sparsity score of 0.722 or about 72%\n",
        "  \n"
      ],
      "metadata": {
        "id": "hScf3-mpezxj"
      }
    },
    {
      "cell_type": "markdown",
      "source": [
        "**Working with Sparse Matrix**"
      ],
      "metadata": {
        "id": "Li1mTi7iwSGT"
      }
    },
    {
      "cell_type": "markdown",
      "source": [
        "The zero values can be ignored and only the data or non-zero values in the sparse matrix need to be stored or acted upon.\n",
        "\n",
        "There are multiple data structures that can be used to efficiently construct a sparse matrix; three common examples are listed below.\n",
        "\n",
        "    Dictionary of Keys -> A dictionary is used where a row and column index is mapped to a value.\n",
        "    List of Lists -> Each row of the matrix is stored as a list, with each sublist containing the column index and the value.\n",
        "    Coordinate List -> A list of tuples is stored with each tuple containing the row index, column index, and the value.\n",
        "\n",
        "There are also data structures that are more suitable for performing efficient operations; two commonly used examples are listed below.\n",
        "\n",
        "    Compressed Sparse Row -> The sparse matrix is represented using three one-dimensional arrays\n",
        "    for the non-zero values,\n",
        "    the extents of the rows, and the column indexes.\n",
        "    Compressed Sparse Column -> The same as the Compressed Sparse Row method except the \n",
        "    column indices are compressed \n",
        "    and read first before the row indices.\n",
        "\n",
        "The Compressed Sparse Row, also called **CSR format** or **Yale format**, is often used to represent sparse matrices in machine learning given the efficient access and matrix multiplication that it supports."
      ],
      "metadata": {
        "id": "s7fOCIe9wZjR"
      }
    },
    {
      "cell_type": "markdown",
      "source": [
        "**Sparse Matrix representation in a 2-D Array format.**\n",
        "\n",
        "2D array is used to represent a sparse matrix in which there are three rows named as \n",
        "\n",
        "    Row: Index of row, where non-zero element is located\n",
        "    Column: Index of column, where non-zero element is located\n",
        "    Value: Value of the non zero element located at index – (row,column)"
      ],
      "metadata": {
        "id": "YQuwlKN6BSIZ"
      }
    },
    {
      "cell_type": "code",
      "source": [
        "sparseMatrix = [[0,0,3,0,4],[0,0,5,7,0],[0,0,0,0,0],[0,2,6,0,0]]\n",
        " \n",
        "# initialize size as 0\n",
        "size = 0\n",
        " \n",
        "for i in range(4):\n",
        "    for j in range(5):\n",
        "        if (sparseMatrix[i][j] != 0):\n",
        "            size += 1\n",
        " \n",
        "# number of columns in compactMatrix(size) should\n",
        "# be equal to number of non-zero elements in sparseMatrix\n",
        "rows, cols = (3, size)\n",
        "print(f\"Size is {size}\")\n",
        "compactMatrix = [[0 for i in range(cols)] for j in range(rows)]\n",
        "# print(compactMatrix)\n",
        "\n",
        "k = 0\n",
        "for i in range(4):\n",
        "    for j in range(5):\n",
        "        if (sparseMatrix[i][j] != 0):\n",
        "            print(f\"k is {k} and element is {sparseMatrix[i][j]}\")\n",
        "            compactMatrix[0][k] = i\n",
        "            compactMatrix[1][k] = j\n",
        "            compactMatrix[2][k] = sparseMatrix[i][j]\n",
        "            k += 1\n",
        " \n",
        "for i in compactMatrix:\n",
        "    print(i)"
      ],
      "metadata": {
        "id": "EFbsMz7xBXp5"
      },
      "execution_count": null,
      "outputs": []
    },
    {
      "cell_type": "markdown",
      "source": [
        "Many linear algebra NumPy and SciPy functions that operate on NumPy arrays can transparently operate on SciPy sparse arrays. Further, machine learning libraries that use NumPy data structures can also operate transparently on SciPy sparse arrays, such as scikit-learn for general machine learning and Keras for deep learning.\n",
        "\n",
        "A dense matrix stored in a NumPy array can be converted into a sparse matrix using the CSR representation by calling the csr_matrix() function."
      ],
      "metadata": {
        "id": "jXkDnmRFE4PB"
      }
    },
    {
      "cell_type": "code",
      "source": [
        "#Importing sparse from scipy\n",
        "\n",
        "# SciPy is a free and open-source Python library used for scientific computing and technical computing.\n",
        "# SciPy contains modules for optimization, linear algebra, integration, interpolation, special functions,\n",
        "# FFT, signal and image processing, ODE solvers and other tasks common in science and engineering.\n",
        "\n",
        "from scipy import sparse\n",
        "\n",
        "matrix = np.array(([0, 0],\n",
        "                  [0, 1],\n",
        "                  [3, 0]))\n",
        "\n",
        "\n",
        "#compressed sparse row (CSR) matrix\n",
        "\n",
        "matrix_sparse = sparse.csr_matrix(matrix)\n",
        "print(matrix_sparse)\n"
      ],
      "metadata": {
        "colab": {
          "base_uri": "https://localhost:8080/"
        },
        "id": "H4Avu_r9eSo3",
        "outputId": "3a7bc6e2-7024-4874-d6b8-0e6e8cd2f958"
      },
      "execution_count": null,
      "outputs": [
        {
          "output_type": "stream",
          "name": "stdout",
          "text": [
            "  (1, 1)\t1\n",
            "  (2, 0)\t3\n"
          ]
        }
      ]
    },
    {
      "cell_type": "markdown",
      "source": [
        "A sparse matrix can be converted to dense matrix by using todense() method"
      ],
      "metadata": {
        "id": "bVZylcjqYfal"
      }
    },
    {
      "cell_type": "code",
      "source": [
        "dense = matrix_sparse.todense()\n",
        "print(dense)"
      ],
      "metadata": {
        "colab": {
          "base_uri": "https://localhost:8080/"
        },
        "id": "laBfBVtCYNFz",
        "outputId": "24d1ec80-4cdc-4b5c-956e-a23bcdb71493"
      },
      "execution_count": null,
      "outputs": [
        {
          "output_type": "stream",
          "name": "stdout",
          "text": [
            "[[0 0]\n",
            " [0 1]\n",
            " [3 0]]\n"
          ]
        }
      ]
    },
    {
      "cell_type": "markdown",
      "source": [
        "**Selecting Elements**"
      ],
      "metadata": {
        "id": "HGYULh9WCqoH"
      }
    },
    {
      "cell_type": "code",
      "source": [
        "vector = np.array([1, 2, 3, 4, 5])\n",
        "\n",
        "matrix = np.array([[1, 2, 3],\n",
        "                   [4, 5, 6],\n",
        "                   [7, 8, 9]])"
      ],
      "metadata": {
        "id": "5WxLheyhCwFC"
      },
      "execution_count": 2,
      "outputs": []
    },
    {
      "cell_type": "markdown",
      "source": [
        "Select all elements in vector"
      ],
      "metadata": {
        "id": "qbOK4RvDDHbC"
      }
    },
    {
      "cell_type": "code",
      "source": [
        "vector[:]"
      ],
      "metadata": {
        "colab": {
          "base_uri": "https://localhost:8080/"
        },
        "id": "ojBrC-syDK1A",
        "outputId": "5bdf068a-e259-4895-a3b4-2a6db83e8cdc"
      },
      "execution_count": 3,
      "outputs": [
        {
          "output_type": "execute_result",
          "data": {
            "text/plain": [
              "array([1, 2, 3, 4, 5])"
            ]
          },
          "metadata": {},
          "execution_count": 3
        }
      ]
    },
    {
      "cell_type": "markdown",
      "source": [
        "Select all elements up to and inckuding third element in the vector"
      ],
      "metadata": {
        "id": "Gfgmph_Ye3AM"
      }
    },
    {
      "cell_type": "code",
      "source": [
        "vector[:3]"
      ],
      "metadata": {
        "colab": {
          "base_uri": "https://localhost:8080/"
        },
        "id": "9nMOXWUhe78T",
        "outputId": "649a5b6c-a222-47e1-8b8d-1511ac3cd126"
      },
      "execution_count": 3,
      "outputs": [
        {
          "output_type": "execute_result",
          "data": {
            "text/plain": [
              "array([1, 2, 3])"
            ]
          },
          "metadata": {},
          "execution_count": 3
        }
      ]
    },
    {
      "cell_type": "markdown",
      "source": [
        "Select all elements after 3rd element"
      ],
      "metadata": {
        "id": "3Fo5TfFcfHJU"
      }
    },
    {
      "cell_type": "code",
      "source": [
        "vector[3:]"
      ],
      "metadata": {
        "colab": {
          "base_uri": "https://localhost:8080/"
        },
        "id": "L_m7Zh25fKL2",
        "outputId": "e9afd8c2-8386-44a9-eb96-9db84d87a642"
      },
      "execution_count": 4,
      "outputs": [
        {
          "output_type": "execute_result",
          "data": {
            "text/plain": [
              "array([4, 5])"
            ]
          },
          "metadata": {},
          "execution_count": 4
        }
      ]
    },
    {
      "cell_type": "markdown",
      "source": [
        "Select last element"
      ],
      "metadata": {
        "id": "--ueNBbSfSHb"
      }
    },
    {
      "cell_type": "code",
      "source": [
        "vector[-1]"
      ],
      "metadata": {
        "colab": {
          "base_uri": "https://localhost:8080/"
        },
        "id": "-2VJLHgxfT-2",
        "outputId": "a042ed73-ca1b-40de-ad42-ec3eef39a817"
      },
      "execution_count": 5,
      "outputs": [
        {
          "output_type": "execute_result",
          "data": {
            "text/plain": [
              "5"
            ]
          },
          "metadata": {},
          "execution_count": 5
        }
      ]
    },
    {
      "cell_type": "markdown",
      "source": [
        "Select first 2 rows and all columns of matrix"
      ],
      "metadata": {
        "id": "H5SvN_q_flNC"
      }
    },
    {
      "cell_type": "code",
      "source": [
        "matrix[:2,:]"
      ],
      "metadata": {
        "colab": {
          "base_uri": "https://localhost:8080/"
        },
        "id": "addLewgvfoLC",
        "outputId": "b5a57ac3-69b0-4cd5-9b68-79077d198147"
      },
      "execution_count": 11,
      "outputs": [
        {
          "output_type": "execute_result",
          "data": {
            "text/plain": [
              "array([[1, 2, 3],\n",
              "       [4, 5, 6]])"
            ]
          },
          "metadata": {},
          "execution_count": 11
        }
      ]
    },
    {
      "cell_type": "markdown",
      "source": [
        "Select all rows and second column of matrix"
      ],
      "metadata": {
        "id": "9TaT5Jm4f3W-"
      }
    },
    {
      "cell_type": "code",
      "source": [
        "matrix[:, 1:2]"
      ],
      "metadata": {
        "colab": {
          "base_uri": "https://localhost:8080/"
        },
        "id": "TlF8zT_ef6Xq",
        "outputId": "555eaceb-f389-41e5-c9de-8b7482bb8887"
      },
      "execution_count": 19,
      "outputs": [
        {
          "output_type": "execute_result",
          "data": {
            "text/plain": [
              "array([[2],\n",
              "       [5],\n",
              "       [8]])"
            ]
          },
          "metadata": {},
          "execution_count": 19
        }
      ]
    },
    {
      "cell_type": "markdown",
      "source": [
        "**Describing the Matrix**"
      ],
      "metadata": {
        "id": "z1Vy0N_DjAUK"
      }
    },
    {
      "cell_type": "code",
      "source": [
        "matrix = np.array([[1,2,3,4],\n",
        "                   [5,6,7,8],\n",
        "                   [9,10,11,12]\n",
        "                   ])"
      ],
      "metadata": {
        "id": "YjyivCMKjD-b"
      },
      "execution_count": 27,
      "outputs": []
    },
    {
      "cell_type": "code",
      "source": [
        "#get the no of rows and cloumns\n",
        "matrix.shape"
      ],
      "metadata": {
        "colab": {
          "base_uri": "https://localhost:8080/"
        },
        "id": "3cXfzDHIjS5A",
        "outputId": "70c4b4ea-060b-416b-8cc6-0af920040e49"
      },
      "execution_count": 22,
      "outputs": [
        {
          "output_type": "execute_result",
          "data": {
            "text/plain": [
              "(3, 4)"
            ]
          },
          "metadata": {},
          "execution_count": 22
        }
      ]
    },
    {
      "cell_type": "code",
      "source": [
        "#get the no of elements (rows * coumns)\n",
        "matrix.size"
      ],
      "metadata": {
        "colab": {
          "base_uri": "https://localhost:8080/"
        },
        "id": "ZF6suRufjuvl",
        "outputId": "b863349e-934b-44e0-bb8a-2487579465d4"
      },
      "execution_count": 23,
      "outputs": [
        {
          "output_type": "execute_result",
          "data": {
            "text/plain": [
              "12"
            ]
          },
          "metadata": {},
          "execution_count": 23
        }
      ]
    },
    {
      "cell_type": "code",
      "source": [
        "#get no of dimensions"
      ],
      "metadata": {
        "id": "bvTJWFGSj48v"
      },
      "execution_count": null,
      "outputs": []
    },
    {
      "cell_type": "code",
      "source": [
        "matrix.ndim"
      ],
      "metadata": {
        "colab": {
          "base_uri": "https://localhost:8080/"
        },
        "id": "Igu76sGOj7yj",
        "outputId": "c6829e9b-d1e2-45d4-f7ba-1bd603a57c3a"
      },
      "execution_count": 28,
      "outputs": [
        {
          "output_type": "execute_result",
          "data": {
            "text/plain": [
              "2"
            ]
          },
          "metadata": {},
          "execution_count": 28
        }
      ]
    },
    {
      "cell_type": "markdown",
      "source": [
        "**Numpy Vectorize**\n",
        "\n",
        "vectorize class converts a function into a function that applies to all elements in an array or slice of array.\n",
        "\n",
        "It acts like a for loop over the elements.\n",
        "\n",
        "\n",
        "Numpy broadcasting can be used to used to perform operations when dimensions are not the same. The one dimensional array must match one dimension of the larger array. It is then repeated to make the shapes equal."
      ],
      "metadata": {
        "id": "iNlC92pmmZNo"
      }
    },
    {
      "cell_type": "code",
      "source": [
        "matrix = np.array([[1, 2, 3],\n",
        "                   [4, 5, 6],\n",
        "                   [7, 8, 9]])\n",
        "\n",
        "matrix = matrix + 100\n",
        "\n",
        "matrix\n"
      ],
      "metadata": {
        "colab": {
          "base_uri": "https://localhost:8080/"
        },
        "id": "lSXBn63wmeYV",
        "outputId": "5f4f33d1-4493-4f22-dc75-887a5cc1c0a7"
      },
      "execution_count": 9,
      "outputs": [
        {
          "output_type": "execute_result",
          "data": {
            "text/plain": [
              "array([[101, 102, 103],\n",
              "       [104, 105, 106],\n",
              "       [107, 108, 109]])"
            ]
          },
          "metadata": {},
          "execution_count": 9
        }
      ]
    },
    {
      "cell_type": "code",
      "source": [
        "a = np.array([1, 2, 3])\n",
        "\n",
        "b = np.array([[1, 2, 3], [4, 5, 6], [7, 8, 9], [10, 11, 12]])\n",
        "\n",
        "c = a*b\n",
        "\n",
        "print(c)"
      ],
      "metadata": {
        "colab": {
          "base_uri": "https://localhost:8080/"
        },
        "id": "DDmKuvEWtknl",
        "outputId": "e91a3ffb-d03b-4997-e17c-9a95ad3aaab3"
      },
      "execution_count": 5,
      "outputs": [
        {
          "output_type": "stream",
          "name": "stdout",
          "text": [
            "[[ 1  4  9]\n",
            " [ 4 10 18]\n",
            " [ 7 16 27]\n",
            " [10 22 36]]\n"
          ]
        }
      ]
    },
    {
      "cell_type": "code",
      "source": [
        "z = np.zeros((3,3))\n",
        "s = np.array([[1],[2],[3]])\n",
        "\n",
        "print(s)\n",
        "\n",
        "print(z)\n",
        "z = z+s\n",
        "print(z)"
      ],
      "metadata": {
        "colab": {
          "base_uri": "https://localhost:8080/"
        },
        "id": "YDcyUeUot0vF",
        "outputId": "a0932075-7ceb-4d4a-df2b-89a6b3d9247f"
      },
      "execution_count": 8,
      "outputs": [
        {
          "output_type": "stream",
          "name": "stdout",
          "text": [
            "[[1]\n",
            " [2]\n",
            " [3]]\n",
            "[[0. 0. 0.]\n",
            " [0. 0. 0.]\n",
            " [0. 0. 0.]]\n",
            "[[1. 1. 1.]\n",
            " [2. 2. 2.]\n",
            " [3. 3. 3.]]\n"
          ]
        }
      ]
    },
    {
      "cell_type": "code",
      "source": [
        "#using vectorize\n",
        "\n",
        "\n",
        "matrix = np.array([[1, 2, 3],\n",
        "                   [4, 5, 6],\n",
        "                   [7, 8, 9]])\n",
        "\n",
        "#creating a normal function to perform an operation\n",
        "add_100 = lambda i : i + 100\n",
        "\n",
        "#vectorizing the function\n",
        "vectorized_add_100 = np.vectorize(add_100)\n",
        "\n",
        "vectorized_add_100(matrix)\n",
        "\n"
      ],
      "metadata": {
        "colab": {
          "base_uri": "https://localhost:8080/"
        },
        "id": "5k5CuEfcwr8m",
        "outputId": "392a1963-b5bb-4101-b959-9a53d5274d5b"
      },
      "execution_count": 10,
      "outputs": [
        {
          "output_type": "execute_result",
          "data": {
            "text/plain": [
              "array([[101, 102, 103],\n",
              "       [104, 105, 106],\n",
              "       [107, 108, 109]])"
            ]
          },
          "metadata": {},
          "execution_count": 10
        }
      ]
    },
    {
      "cell_type": "markdown",
      "source": [
        "**Finding Max and Min values in an array**\n",
        "\n",
        "Numpy provides max and min functions to achieve this task"
      ],
      "metadata": {
        "id": "uq8gUJz9iglQ"
      }
    },
    {
      "cell_type": "code",
      "source": [
        "matrix = np.array([[1, 2, 3],\n",
        "                   [4, 5, 6],\n",
        "                   [7, 18, 9]])\n",
        "\n",
        "print(f'max value in matrix is {np.max(matrix)}')\n",
        "print(f'min value in matrix is {np.min(matrix)}')"
      ],
      "metadata": {
        "colab": {
          "base_uri": "https://localhost:8080/"
        },
        "id": "5MzFgVS7isXQ",
        "outputId": "bb922da9-a6c7-4f71-a498-9385ce4efc01"
      },
      "execution_count": 6,
      "outputs": [
        {
          "output_type": "stream",
          "name": "stdout",
          "text": [
            "max value in matrix is 18\n",
            "min value in matrix is 1\n"
          ]
        }
      ]
    },
    {
      "cell_type": "markdown",
      "source": [
        "![picture](https://drive.google.com/uc?export=view&id=168Gzl5e5I3PmgBJdRPx0V1m3yzT2f4f-)"
      ],
      "metadata": {
        "id": "gKYsK6akCSD-"
      }
    },
    {
      "cell_type": "markdown",
      "source": [
        "Getting Maximum element in each column"
      ],
      "metadata": {
        "id": "KqCaL2F3lIV3"
      }
    },
    {
      "cell_type": "code",
      "source": [
        "np.max(matrix,axis=0)"
      ],
      "metadata": {
        "colab": {
          "base_uri": "https://localhost:8080/"
        },
        "id": "5o8L4Hhjlwt3",
        "outputId": "bc694257-af7b-4e09-c722-bad4960954a0"
      },
      "execution_count": 7,
      "outputs": [
        {
          "output_type": "execute_result",
          "data": {
            "text/plain": [
              "array([ 7, 18,  9])"
            ]
          },
          "metadata": {},
          "execution_count": 7
        }
      ]
    },
    {
      "cell_type": "markdown",
      "source": [
        "Getting Maximum element in each row\n"
      ],
      "metadata": {
        "id": "oxEx0LYbl_5-"
      }
    },
    {
      "cell_type": "code",
      "source": [
        "np.max(matrix, axis=1)"
      ],
      "metadata": {
        "colab": {
          "base_uri": "https://localhost:8080/"
        },
        "id": "s1QquRCVmfVO",
        "outputId": "a88ddd63-1963-4e37-e07b-3b8459cf5ce6"
      },
      "execution_count": 8,
      "outputs": [
        {
          "output_type": "execute_result",
          "data": {
            "text/plain": [
              "array([ 3,  6, 18])"
            ]
          },
          "metadata": {},
          "execution_count": 8
        }
      ]
    },
    {
      "cell_type": "markdown",
      "source": [
        "**Average, Variance and Standard Deviation**\n",
        "\n",
        "Calculating descriptive statistics of an array\n",
        "\n"
      ],
      "metadata": {
        "id": "N94LkQP0rNrs"
      }
    },
    {
      "cell_type": "code",
      "source": [
        "matrix = np.array([[1, 2, 3],\n",
        "                   [4, 5, 6],\n",
        "                   [7, 8, 9]])\n",
        "\n",
        "#mean\n",
        "print(f\"Mean of matrix is {np.mean(matrix)}\\n\")\n",
        "\n",
        "#variane\n",
        "\n",
        "print(f\"Variance if matrix is {np.var(matrix)}\\n\")\n",
        "\n",
        "#Standard Deviation\n",
        "\n",
        "print(f\"S.D of matrix is {np.std(matrix)}\\n\")"
      ],
      "metadata": {
        "colab": {
          "base_uri": "https://localhost:8080/"
        },
        "id": "L15lEU35raI3",
        "outputId": "5ffa33ea-7494-4885-c8d0-ef019e6897cb"
      },
      "execution_count": 5,
      "outputs": [
        {
          "output_type": "stream",
          "name": "stdout",
          "text": [
            "Mean of matrix is 5.0\n",
            "\n",
            "Variance if matrix is 6.666666666666667\n",
            "\n",
            "S.D of matrix is 2.581988897471611\n",
            "\n"
          ]
        }
      ]
    },
    {
      "cell_type": "markdown",
      "source": [
        "Descriptive statistics among single axis\n",
        "\n"
      ],
      "metadata": {
        "id": "wYAJ9V-XHLaI"
      }
    },
    {
      "cell_type": "code",
      "source": [
        "#Mean value in each column\n",
        "\n",
        "print(f\"Mean value in each column is {np.mean(matrix, axis = 0)}\\n\")\n",
        "\n",
        "print(f\"Mean value in each row is {np.mean(matrix, axis=1)}\")"
      ],
      "metadata": {
        "colab": {
          "base_uri": "https://localhost:8080/"
        },
        "id": "Aujz2nRGHQc8",
        "outputId": "29529246-d9ea-4c34-d56c-71d00bb71a93"
      },
      "execution_count": 7,
      "outputs": [
        {
          "output_type": "stream",
          "name": "stdout",
          "text": [
            "Mean value in each column is [4. 5. 6.]\n",
            "\n",
            "Mean value in each row is [2. 5. 8.]\n"
          ]
        }
      ]
    },
    {
      "cell_type": "markdown",
      "source": [
        "**Reshaping Arrays**"
      ],
      "metadata": {
        "id": "LVY9ioHELbJQ"
      }
    },
    {
      "cell_type": "code",
      "source": [
        "# 4 * 3 matrix\n",
        "\n",
        "matrix = np.array([[1, 2, 3],\n",
        "                   [4, 5, 6],\n",
        "                   [7, 8, 9],\n",
        "                   [10, 11, 12]])\n",
        "\n",
        "#Reshaping into 2 * 6\n",
        "\n",
        "# matrix.reshape(2, 6)\n",
        "np.reshape(matrix, (2, 6))"
      ],
      "metadata": {
        "colab": {
          "base_uri": "https://localhost:8080/"
        },
        "id": "fxXV3QoMLe84",
        "outputId": "6ee2fcb3-a3bc-435d-d0ca-856e651e30d0"
      },
      "execution_count": 3,
      "outputs": [
        {
          "output_type": "execute_result",
          "data": {
            "text/plain": [
              "array([[ 1,  2,  3,  4,  5,  6],\n",
              "       [ 7,  8,  9, 10, 11, 12]])"
            ]
          },
          "metadata": {},
          "execution_count": 3
        }
      ]
    },
    {
      "cell_type": "code",
      "source": [
        "from numpy.matrixlib import mat\n",
        "np.reshape(matrix, 12)"
      ],
      "metadata": {
        "colab": {
          "base_uri": "https://localhost:8080/"
        },
        "id": "Iig41R1wegXd",
        "outputId": "971ebf62-fab7-4c04-dd1e-5dd341cfd7c4"
      },
      "execution_count": 5,
      "outputs": [
        {
          "output_type": "execute_result",
          "data": {
            "text/plain": [
              "array([ 1,  2,  3,  4,  5,  6,  7,  8,  9, 10, 11, 12])"
            ]
          },
          "metadata": {},
          "execution_count": 5
        }
      ]
    },
    {
      "cell_type": "code",
      "source": [
        "# -1 can be used in reshape to autofill the no. of columns\n",
        "\n",
        "np.reshape(matrix, (1, -1))"
      ],
      "metadata": {
        "colab": {
          "base_uri": "https://localhost:8080/"
        },
        "id": "qYl_QYA7eSXr",
        "outputId": "5c8d5f6f-7785-4f5b-bc1b-35fbbd70cb42"
      },
      "execution_count": 6,
      "outputs": [
        {
          "output_type": "execute_result",
          "data": {
            "text/plain": [
              "array([[ 1,  2,  3,  4,  5,  6,  7,  8,  9, 10, 11, 12]])"
            ]
          },
          "metadata": {},
          "execution_count": 6
        }
      ]
    }
  ]
}